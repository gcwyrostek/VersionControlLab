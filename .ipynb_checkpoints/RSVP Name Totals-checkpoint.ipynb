{
 "cells": [
  {
   "cell_type": "code",
   "execution_count": 43,
   "metadata": {},
   "outputs": [
    {
     "name": "stdin",
     "output_type": "stream",
     "text": [
      "Please enter the name you want to add or check. Tinabob\n",
      "Are you done?(y/n) y\n"
     ]
    },
    {
     "name": "stdout",
     "output_type": "stream",
     "text": [
      "Bob-2\n",
      "Tina-2\n",
      "TinBob-1\n",
      "Tinabob-1\n",
      "{'Bob': 2, 'Tina': 2, 'TinBob': 1, 'Tinabob': 1}\n"
     ]
    }
   ],
   "source": [
    "loop = True\n",
    "\n",
    "#'database' is the dictionary that is active in the code\n",
    "database = dict()\n",
    "\n",
    "####################################################################################\n",
    "# This is for the loading from file. 'load' is the readable file that pulls the previous results.\n",
    "####################################################################################\n",
    "load = open(\"data.txt\", \"r\")\n",
    "\n",
    "for line in load:\n",
    "    lineOut = line.strip().split('-')\n",
    "    database[lineOut[0]] = int(lineOut[1])\n",
    "    \n",
    "load.close()\n",
    "####################################################################################\n",
    "\n",
    "#This was mainly for testing. I think we will still need to clean the input from name to make sure it's in proper case, as well as add a mode change instead of the \"Are you done?\"\n",
    "while loop:\n",
    "    name = input(prompt=\"Please enter the name you want to add or check.\")\n",
    "    if (name in database):\n",
    "        database[name] += 1\n",
    "    else:\n",
    "        database[name] = 1\n",
    "        \n",
    "    choice = input(prompt=\"Are you done?(y/n)\")\n",
    "\n",
    "    if (choice == \"y\"):\n",
    "        loop = False\n",
    "        \n",
    "####################################################################################\n",
    "# This is for the saving from file. 'save' is the writeable file that pulls the previous results.\n",
    "####################################################################################\n",
    "save = open(\"data.txt\", \"w\")\n",
    "for name in database:\n",
    "    #The formatting has to be NAME-AMOUNT for it to work\n",
    "    save.write(str(name) + \"-\" + str(database[name]) + '\\n')\n",
    "    \n",
    "save.close()\n",
    "####################################################################################"
   ]
  },
  {
   "cell_type": "code",
   "execution_count": null,
   "metadata": {},
   "outputs": [],
   "source": []
  }
 ],
 "metadata": {
  "kernelspec": {
   "display_name": "Python 3",
   "language": "python",
   "name": "python3"
  },
  "language_info": {
   "codemirror_mode": {
    "name": "ipython",
    "version": 3
   },
   "file_extension": ".py",
   "mimetype": "text/x-python",
   "name": "python",
   "nbconvert_exporter": "python",
   "pygments_lexer": "ipython3",
   "version": "3.8.3"
  }
 },
 "nbformat": 4,
 "nbformat_minor": 4
}
