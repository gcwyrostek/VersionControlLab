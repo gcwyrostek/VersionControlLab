{
 "cells": [
  {
   "cell_type": "code",
   "execution_count": 2,
   "metadata": {},
   "outputs": [
    {
     "name": "stdin",
     "output_type": "stream",
     "text": [
      "Please enter the name you want to add or check. Jodie\n",
      "Would you like to add the name to the file (1) or check how many instances are in the list (2)? 2\n"
     ]
    },
    {
     "name": "stdout",
     "output_type": "stream",
     "text": [
      "There is 1 instance of Jodie\n"
     ]
    },
    {
     "name": "stdin",
     "output_type": "stream",
     "text": [
      "Are you done entering and checking names?(Y/N) n\n",
      "Please enter the name you want to add or check. bob\n",
      "Would you like to add the name to the file (1) or check how many instances are in the list (2)? 2\n"
     ]
    },
    {
     "name": "stdout",
     "output_type": "stream",
     "text": [
      "There are 21 instances of Bob\n"
     ]
    },
    {
     "name": "stdin",
     "output_type": "stream",
     "text": [
      "Are you done entering and checking names?(Y/N) y\n",
      "Save entries?(Y/N) y\n"
     ]
    }
   ],
   "source": [
    "loop = True\n",
    "\n",
    "#'database' is the dictionary that is active in the code\n",
    "database = dict()\n",
    "\n",
    "###################################################################################################\n",
    "# This is for the loading from file. 'load' is the readable file that pulls the previous results. #\n",
    "###################################################################################################\n",
    "load = open(\"data.txt\", \"r\")\n",
    "\n",
    "for line in load:\n",
    "    lineOut = line.strip().split('-')\n",
    "    database[lineOut[0]] = int(lineOut[1])\n",
    "    \n",
    "load.close()\n",
    "###################################################################################################\n",
    "\n",
    "while loop:\n",
    "    \n",
    "    #Name is entered and converted to proper case\n",
    "    inputed_name = input(prompt=\"Please enter the name you want to add or check.\")\n",
    "    lowercased = inputed_name.lower().split()\n",
    "    \n",
    "    #Loop allows for multiple word names (I.E. First Last)\n",
    "    capitalized = \"\"\n",
    "    totalWords = len(lowercased)\n",
    "    for eachWord in lowercased:\n",
    "        capitalized = capitalized + eachWord.capitalize()\n",
    "        if totalWords > 1:\n",
    "            capitalized += \" \"\n",
    "            totalWords -= 1\n",
    "            \n",
    "    name = capitalized\n",
    "\n",
    "    #Choice between adding a name to the system or checking the total number of that name on file\n",
    "    choice = input(prompt=\"Would you like to add the name to the file (1) or check how many instances are in the list (2)?\")\n",
    "    notFound = True\n",
    "    \n",
    "    if (str(choice) == \"1\"):\n",
    "        if (name in database):\n",
    "            database[name] += 1\n",
    "        else:\n",
    "            database[name] = 1\n",
    "            \n",
    "    elif (str(choice) == \"2\"):\n",
    "        for entry in database:\n",
    "            if (entry == name):\n",
    "                if (database[name] == 1):\n",
    "                    print(\"There is \" + str(database[name]) + \" instance of \" + name)\n",
    "                else:\n",
    "                    print(\"There are \" + str(database[name]) + \" instances of \" + name)\n",
    "                notFound = False\n",
    "            \n",
    "        if notFound:\n",
    "            print(\"There are no instances of \" + name)\n",
    "            \n",
    "    else:\n",
    "        print(\"Invalid selection.\")\n",
    "        \n",
    "    closer = input(prompt=\"Are you done entering and checking names?(Y/N)\")\n",
    "\n",
    "    if (closer.capitalize() == \"Y\"):\n",
    "        loop = False\n",
    "\n",
    "saveChoice = input(prompt=\"Save entries?(Y/N)\")\n",
    "if (saveChoice.capitalize() == \"Y\"):\n",
    "###################################################################################################\n",
    "# This is for the saving from file. 'save' is the writeable file that pulls the previous results. #\n",
    "###################################################################################################\n",
    "    save = open(\"data.txt\", \"w\")\n",
    "    for name in database:\n",
    "        #The formatting has to be NAME-AMOUNT for it to work\n",
    "        save.write(str(name) + \"-\" + str(database[name]) + '\\n')\n",
    "\n",
    "    save.close()\n",
    "###################################################################################################"
   ]
  },
  {
   "cell_type": "code",
   "execution_count": null,
   "metadata": {},
   "outputs": [],
   "source": []
  }
 ],
 "metadata": {
  "kernelspec": {
   "display_name": "Python 3",
   "language": "python",
   "name": "python3"
  },
  "language_info": {
   "codemirror_mode": {
    "name": "ipython",
    "version": 3
   },
   "file_extension": ".py",
   "mimetype": "text/x-python",
   "name": "python",
   "nbconvert_exporter": "python",
   "pygments_lexer": "ipython3",
   "version": "3.8.3"
  }
 },
 "nbformat": 4,
 "nbformat_minor": 4
}
