{
 "cells": [
  {
   "cell_type": "code",
   "execution_count": 25,
   "metadata": {},
   "outputs": [
    {
     "name": "stdin",
     "output_type": "stream",
     "text": [
      "Please enter the name you want to add or check. bob\n",
      "Would you like to add the name to the file (1), check how many instances are in the list (2)? 2\n",
      "Are you done?(y/n) y\n"
     ]
    }
   ],
   "source": [
    "loop = True\n",
    "\n",
    "#'database' is the dictionary that is active in the code\n",
    "database = dict()\n",
    "\n",
    "####################################################################################\n",
    "# This is for the loading from file. 'load' is the readable file that pulls the previous results.\n",
    "####################################################################################\n",
    "load = open(\"data.txt\", \"r\")\n",
    "\n",
    "for line in load:\n",
    "    lineOut = line.strip().split('-')\n",
    "    database[lineOut[0]] = int(lineOut[1])\n",
    "    \n",
    "#load.close()\n",
    "####################################################################################\n",
    "\n",
    "#This was mainly for testing. I think we will still need to clean the input from name to make sure it's in proper case, as well as add a mode change instead of the \"Are you done?\"\n",
    "while loop:\n",
    "    \n",
    "    inputed_name = input(prompt=\"Please enter the name you want to add or check.\")\n",
    "    lowercased = inputed_name.lower()\n",
    "    capitalized = lowercased.capitalize()\n",
    "    name = capitalized\n",
    "    #i think i changed it to proper case?\n",
    "\n",
    "    choice = input(prompt=\"Would you like to add the name to the file (1), check how many instances are in the list (2)?\")\n",
    "\n",
    "    if (choice == \"1\"):\n",
    "        if (name in database):\n",
    "            database[name] += 1\n",
    "        else:\n",
    "            database[name] = 1\n",
    "    elif (choice == \"2\"):\n",
    "        for line in load:\n",
    "            if line.startswith(name):\n",
    "                atpos = line.find(\"-\")\n",
    "                numb = line[(atpos + 1):(\"\\n\" +1)]\n",
    "                print(\"There are \" + numb + name)\n",
    "        \n",
    "    \n",
    "    closer = input(prompt=\"Are you done?(y/n)\")\n",
    "\n",
    "    if (closer == \"y\"):\n",
    "        loop = False\n",
    "        load.close()\n",
    "        \n",
    "####################################################################################\n",
    "# This is for the saving from file. 'save' is the writeable file that pulls the previous results.\n",
    "####################################################################################\n",
    "save = open(\"data.txt\", \"w\")\n",
    "for name in database:\n",
    "    #The formatting has to be NAME-AMOUNT for it to work\n",
    "    save.write(str(name) + \"-\" + str(database[name]) + '\\n')\n",
    " \n",
    "    \n",
    "    \n",
    "    \n",
    "save.close()\n",
    "####################################################################################"
   ]
  },
  {
   "cell_type": "code",
   "execution_count": null,
   "metadata": {},
   "outputs": [],
   "source": []
  }
 ],
 "metadata": {
  "kernelspec": {
   "display_name": "Python 3",
   "language": "python",
   "name": "python3"
  },
  "language_info": {
   "codemirror_mode": {
    "name": "ipython",
    "version": 3
   },
   "file_extension": ".py",
   "mimetype": "text/x-python",
   "name": "python",
   "nbconvert_exporter": "python",
   "pygments_lexer": "ipython3",
   "version": "3.8.3"
  }
 },
 "nbformat": 4,
 "nbformat_minor": 4
}
